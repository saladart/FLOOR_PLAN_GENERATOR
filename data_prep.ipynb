{
 "cells": [
  {
   "cell_type": "markdown",
   "source": [
    "## Data preparation\n",
    "\n",
    "The aim of this notebook is to prepare data for the training process. Generated floorplans\n",
    "were pretty dirty so I cropped the area of the interest. Preparation pipeline:\n",
    "\n",
    "1. Find biggest contour on the image\n",
    "2. Resize samples according to the size of the flat (1kk must be smaller than 5kk) and get `target` image\n",
    "3. Find entrance position (room colored in gray is forecourt) and draw it as red line.\n",
    "4. Fill the contour with black color and get `input` image"
   ],
   "metadata": {
    "collapsed": false,
    "pycharm": {
     "name": "#%% md\n"
    }
   }
  },
  {
   "cell_type": "code",
   "execution_count": 1,
   "metadata": {
    "collapsed": true
   },
   "outputs": [],
   "source": [
    "import cv2\n",
    "import numpy as np\n",
    "from pathlib import Path\n",
    "from collections import defaultdict\n",
    "import os\n",
    "import matplotlib.pyplot as plt\n",
    "from tqdm import tqdm\n",
    "\n",
    "DELTA = 3000"
   ]
  },
  {
   "cell_type": "code",
   "execution_count": 2,
   "outputs": [],
   "source": [
    "# # read the data\n",
    "# data_path = Path('./data/raw')\n",
    "# data = defaultdict(list)\n",
    "# for p in data_path.glob('**/*.png'):\n",
    "#     parent = str(p.parent)\n",
    "#     flat_type = parent.split('/')[-1]  # ex: 2kk, 2+1, 3kk, etc.\n",
    "#     image = cv2.imread(p.as_posix())\n",
    "#     data[flat_type].append(image)"
   ],
   "metadata": {
    "collapsed": false,
    "pycharm": {
     "name": "#%%\n"
    }
   }
  },
  {
   "cell_type": "code",
   "execution_count": 3,
   "outputs": [],
   "source": [
    "data_path = './data/raw'\n",
    "flat_folders = [f for f in os.listdir(data_path) if not f.startswith('.')]\n",
    "flat_folders_sorted = sorted(flat_folders)"
   ],
   "metadata": {
    "collapsed": false,
    "pycharm": {
     "name": "#%%\n"
    }
   }
  },
  {
   "cell_type": "code",
   "execution_count": 4,
   "outputs": [],
   "source": [
    "# define how much area will sample occupy in order to keep ratios of bigger flats\n",
    "ratios = {}\n",
    "# for f in flat_folders_sorted:\n",
    "#     n_rooms = int(f[0])\n",
    "#     if n_rooms in ratios.keys():\n",
    "#         continue\n",
    "#     ratio = .2 + np.log10(n_rooms)\n",
    "#     ratios[n_rooms] = ratio"
   ],
   "metadata": {
    "collapsed": false,
    "pycharm": {
     "name": "#%%\n"
    }
   }
  },
  {
   "cell_type": "code",
   "execution_count": 5,
   "outputs": [],
   "source": [
    "ratios = {\n",
    "    1: 0.1,\n",
    "    2: 0.25,\n",
    "    3: 0.5,\n",
    "    4: 0.75,\n",
    "    5: 0.9\n",
    "}"
   ],
   "metadata": {
    "collapsed": false,
    "pycharm": {
     "name": "#%%\n"
    }
   }
  },
  {
   "cell_type": "code",
   "execution_count": 24,
   "outputs": [],
   "source": [
    "# helper functions\n",
    "def get_biggest_contour(contours: list, img: np.array):\n",
    "    \"\"\"Returns biggest contour in the image as well as its drawn representation.\"\"\"\n",
    "    x, y = img.shape[0], img.shape[1]\n",
    "    areas_cont = []\n",
    "    for c in contours:\n",
    "        c_area = cv2.contourArea(c)\n",
    "        if np.abs(c_area - x * y) < DELTA:  # check if the contour is not image box\n",
    "            continue\n",
    "        areas_cont.append((c_area, c))\n",
    "    sorted_areas = sorted(areas_cont, key=lambda x: x[0], reverse=True)\n",
    "    biggest_contour = sorted_areas[0][1]\n",
    "\n",
    "    zeros = np.zeros_like(img)\n",
    "    return biggest_contour, cv2.drawContours(zeros, [biggest_contour], -1, (255,0,0), 3)\n",
    "\n",
    "def get_contours(color_img: np.array):\n",
    "    \"\"\"Returns all contours in the picture.\"\"\"\n",
    "    gray = cv2.cvtColor(color_img, cv2.COLOR_RGB2GRAY)\n",
    "    kernel = np.ones(9).reshape(3,3)\n",
    "    gray_erode = cv2.erode(gray, kernel).astype('uint8')\n",
    "    thresh, mask = cv2.threshold(gray_erode, 0, 1, cv2.THRESH_BINARY)\n",
    "    contours, hierarchy = cv2.findContours(mask, cv2.RETR_LIST, cv2.CHAIN_APPROX_SIMPLE)\n",
    "    return contours\n",
    "\n",
    "def compute_image_size(bbox: tuple, n_rooms: int):\n",
    "    \"\"\"Compute the size of the new image according to ratio from bounding box.\n",
    "    Not used after all.\n",
    "    \"\"\"\n",
    "    ratio = ratios[n_rooms]\n",
    "    _, _, w, h = bbox\n",
    "    S = np.sqrt(w * h / ratio)\n",
    "    if S < w or S < h:\n",
    "        k = max(w, h) / S + .2\n",
    "        S *= k\n",
    "    return int(S)\n",
    "\n",
    "def compute_image_size_contour(contour, bbox, n_rooms):\n",
    "    \"\"\"Compute the size of the new image according to ratio from contour.\"\"\"\n",
    "    ratio = ratios[n_rooms]\n",
    "    _, _, w, h = bbox\n",
    "    area = cv2.contourArea(contour)\n",
    "    S_img = area / ratio\n",
    "    side = np.sqrt(S_img) + 100 * 1 / n_rooms ** 2\n",
    "    if side < w or side < h:\n",
    "        k = max(w, h) / side + .2\n",
    "        side *= k\n",
    "    return int(side)\n",
    "\n",
    "def smart_crop(img, flat_type):\n",
    "    \"\"\"Crops the image in accordance to flat's real size.\"\"\"\n",
    "    contours = get_contours(img)\n",
    "    n_rooms = int(flat_type[0])\n",
    "    biggest_contour, _ = get_biggest_contour(contours, img)\n",
    "    bbox = cv2.boundingRect(biggest_contour)\n",
    "    new_side = compute_image_size_contour(biggest_contour, bbox, n_rooms)\n",
    "    empty = np.full((new_side, new_side, 3), 255)\n",
    "    cropped = put_contour_contents_to_img(img, bbox, empty).astype('float32')\n",
    "    return cropped\n",
    "\n",
    "def put_contour_contents_to_img(source, bbox, dest):\n",
    "    x, y, w, h = bbox\n",
    "    new_h, new_w = dest.shape[:2]\n",
    "\n",
    "    init_y = int((new_h - h ) / 2)\n",
    "    init_x = int((new_w - w ) / 2)\n",
    "    # print(f\"\"\"\n",
    "    # Indexing x from {x} to {x+w}\n",
    "    # Indexing y from {y} to {y+h}\n",
    "    # New x {init_x} to {init_x+w}\n",
    "    # New y {init_y} to {init_y+h}\n",
    "    # Shape source  {source.shape}\n",
    "    # Shape dest {dest.shape}\n",
    "    # \"\"\")\n",
    "    dest[init_y:init_y+h, init_x:init_x+w] = source[y:y+h, x:x+w]\n",
    "    return dest\n",
    "\n",
    "def fill_contour_black(img, contour):\n",
    "    res = cv2.fillPoly(img, [contour], (0,0,0))\n",
    "    return res\n",
    "\n",
    "def draw_entrance_position(img):\n",
    "    gray = cv2.cvtColor(img, cv2.COLOR_RGB2GRAY)\n",
    "    background = extract_background(gray)\n",
    "    hall = extract_hall(gray)\n",
    "    intersection = get_hall_background_intersection(background, hall)\n",
    "    img_cpy = img.copy()\n",
    "    img_cpy[intersection] = (0, 0, 255)  #draw entrance\n",
    "    return img_cpy\n",
    "\n",
    "\n",
    "def extract_hall(gray, dilate=True):\n",
    "    thresh, mask1 = cv2.threshold(gray, 204, 1, cv2.THRESH_BINARY)\n",
    "    thresh, mask2 = cv2.threshold(gray, 206, 1, cv2.THRESH_BINARY_INV)\n",
    "    res = cv2.bitwise_and(mask1, mask2)\n",
    "    if dilate:  # increase the hall mask so the intersection with background mask gives entrance mask\n",
    "        kernel = np.ones(9).reshape(3,3)\n",
    "        dilated = cv2.dilate(res, kernel, iterations=10)\n",
    "        return dilated\n",
    "    return res\n",
    "\n",
    "def extract_background(gray):\n",
    "    thresh, mask = cv2.threshold(gray, 250, 1, cv2.THRESH_BINARY)\n",
    "    bin_mask = mask\n",
    "    return bin_mask\n",
    "\n",
    "def get_hall_background_intersection(background, hall):\n",
    "    intersection = cv2.bitwise_and(background, hall)\n",
    "    return intersection.astype('bool')\n",
    "\n",
    "def resize_img(img, res=(300, 300)):\n",
    "    return cv2.resize(img, res)\n",
    "\n",
    "def save_image(img, path):\n",
    "    dir_root = os.path.dirname(path)\n",
    "    if not os.path.exists(dir_root):\n",
    "        os.makedirs(dir_root)\n",
    "    status = cv2.imwrite(path, img)"
   ],
   "metadata": {
    "collapsed": false,
    "pycharm": {
     "name": "#%%\n"
    }
   }
  },
  {
   "cell_type": "code",
   "execution_count": 25,
   "outputs": [],
   "source": [
    "def process_sample(img, flat_type, plot=False):\n",
    "    \"\"\"Performs preprocessing pipeline.\"\"\"\n",
    "    target = smart_crop(img, flat_type)  # get target image\n",
    "\n",
    "    X = target.copy()\n",
    "    contours = get_contours(X)\n",
    "    biggest_contour, biggest_contour_drawn = get_biggest_contour(contours, X)\n",
    "    X = draw_entrance_position(X)\n",
    "    X = fill_contour_black(X, biggest_contour)\n",
    "    if plot:\n",
    "        fig, (ax1, ax2) = plt.subplots(1, 2, figsize=(12, 5))\n",
    "\n",
    "        ax1.imshow(X)\n",
    "        ax1.set_title('X')\n",
    "        ax2.imshow(target)\n",
    "        ax2.set_title('target')\n",
    "        plt.show()\n",
    "    return X, target\n",
    "\n"
   ],
   "metadata": {
    "collapsed": false,
    "pycharm": {
     "name": "#%%\n"
    }
   }
  },
  {
   "cell_type": "code",
   "execution_count": 27,
   "outputs": [
    {
     "name": "stderr",
     "output_type": "stream",
     "text": [
      "Clipping input data to the valid range for imshow with RGB data ([0..1] for floats or [0..255] for integers).\n",
      "Clipping input data to the valid range for imshow with RGB data ([0..1] for floats or [0..255] for integers).\n"
     ]
    },
    {
     "data": {
      "text/plain": "<Figure size 864x360 with 2 Axes>",
      "image/png": "[encoded data removed]"
     },
     "metadata": {
      "needs_background": "light"
     },
     "output_type": "display_data"
    }
   ],
   "source": [
    "sample = cv2.imread('data/raw/3/Frame_00005.png')\n",
    "sample = cv2.cvtColor(sample, cv2.COLOR_BGR2RGB)\n",
    "X, target = process_sample(sample, '3', plot=True)"
   ],
   "metadata": {
    "collapsed": false,
    "pycharm": {
     "name": "#%%\n"
    }
   }
  },
  {
   "cell_type": "code",
   "execution_count": 28,
   "outputs": [
    {
     "name": "stdout",
     "output_type": "stream",
     "text": [
      "Processing 1+1\n"
     ]
    },
    {
     "name": "stderr",
     "output_type": "stream",
     "text": [
      "100%|██████████| 151/151 [00:04<00:00, 35.11it/s]\n"
     ]
    },
    {
     "name": "stdout",
     "output_type": "stream",
     "text": [
      "Processing 1kk\n"
     ]
    },
    {
     "name": "stderr",
     "output_type": "stream",
     "text": [
      "100%|██████████| 201/201 [00:05<00:00, 35.99it/s]\n"
     ]
    },
    {
     "name": "stdout",
     "output_type": "stream",
     "text": [
      "Processing 2+1\n"
     ]
    },
    {
     "name": "stderr",
     "output_type": "stream",
     "text": [
      "100%|██████████| 152/152 [00:03<00:00, 50.08it/s]\n"
     ]
    },
    {
     "name": "stdout",
     "output_type": "stream",
     "text": [
      "Processing 2kk_entrance_forecourt\n"
     ]
    },
    {
     "name": "stderr",
     "output_type": "stream",
     "text": [
      "100%|██████████| 101/101 [00:01<00:00, 56.56it/s]\n"
     ]
    },
    {
     "name": "stdout",
     "output_type": "stream",
     "text": [
      "Processing 2kk_entrance_living_room\n"
     ]
    },
    {
     "name": "stderr",
     "output_type": "stream",
     "text": [
      "100%|██████████| 101/101 [00:02<00:00, 49.72it/s]\n"
     ]
    },
    {
     "name": "stdout",
     "output_type": "stream",
     "text": [
      "Processing 3\n"
     ]
    },
    {
     "name": "stderr",
     "output_type": "stream",
     "text": [
      "100%|██████████| 101/101 [00:01<00:00, 59.75it/s]\n"
     ]
    },
    {
     "name": "stdout",
     "output_type": "stream",
     "text": [
      "Processing 3+1\n"
     ]
    },
    {
     "name": "stderr",
     "output_type": "stream",
     "text": [
      "100%|██████████| 151/151 [00:02<00:00, 62.68it/s]\n"
     ]
    },
    {
     "name": "stdout",
     "output_type": "stream",
     "text": [
      "Processing 3kk_entrance_forecourt\n"
     ]
    },
    {
     "name": "stderr",
     "output_type": "stream",
     "text": [
      "100%|██████████| 201/201 [00:03<00:00, 56.53it/s]\n"
     ]
    },
    {
     "name": "stdout",
     "output_type": "stream",
     "text": [
      "Processing 3kk_luxe\n"
     ]
    },
    {
     "name": "stderr",
     "output_type": "stream",
     "text": [
      "100%|██████████| 201/201 [00:04<00:00, 44.95it/s]\n"
     ]
    },
    {
     "name": "stdout",
     "output_type": "stream",
     "text": [
      "Processing 4kk\n"
     ]
    },
    {
     "name": "stderr",
     "output_type": "stream",
     "text": [
      "100%|██████████| 201/201 [00:05<00:00, 33.74it/s]\n"
     ]
    },
    {
     "name": "stdout",
     "output_type": "stream",
     "text": [
      "Processing 5+1\n"
     ]
    },
    {
     "name": "stderr",
     "output_type": "stream",
     "text": [
      "100%|██████████| 201/201 [00:05<00:00, 35.17it/s]\n"
     ]
    },
    {
     "name": "stdout",
     "output_type": "stream",
     "text": [
      "Processing 5kk\n"
     ]
    },
    {
     "name": "stderr",
     "output_type": "stream",
     "text": [
      "100%|██████████| 201/201 [00:06<00:00, 31.58it/s]\n"
     ]
    },
    {
     "name": "stdout",
     "output_type": "stream",
     "text": [
      "Processing 5kk+balcony\n"
     ]
    },
    {
     "name": "stderr",
     "output_type": "stream",
     "text": [
      "100%|██████████| 201/201 [00:05<00:00, 34.20it/s]\n"
     ]
    }
   ],
   "source": [
    "data_path = './data'\n",
    "\n",
    "\n",
    "for folder in flat_folders_sorted:\n",
    "    print(f'Processing {folder}')\n",
    "    target_path = data_path + '/raw/' + folder\n",
    "    frames = sorted(os.listdir(target_path))\n",
    "    for frame in tqdm(frames):\n",
    "        if frame == '.DS_Store':\n",
    "            continue\n",
    "        img = cv2.imread(target_path + f'/{frame}')\n",
    "        X, target = process_sample(img, folder)\n",
    "        save_image(target, data_path + f'/output/{folder}_{frame}')\n",
    "        save_image(X, data_path + f'/input/{folder}_{frame}')"
   ],
   "metadata": {
    "collapsed": false,
    "pycharm": {
     "name": "#%%\n"
    }
   }
  },
  {
   "cell_type": "code",
   "execution_count": 42,
   "outputs": [
    {
     "data": {
      "text/plain": "<Figure size 576x1080 with 10 Axes>",
      "image/png": "[encoded data removed]"
     },
     "metadata": {
      "needs_background": "light"
     },
     "output_type": "display_data"
    }
   ],
   "source": [
    "import random\n",
    "n_samples = 5\n",
    "random_samples = random.choices(os.listdir('./data/input/'), k=n_samples)\n",
    "fig, axs = plt.subplots(n_samples, 2, figsize=(8, 3 * n_samples))\n",
    "for i, s in enumerate(random_samples):\n",
    "    X = cv2.imread(f'./data/input/{s}')\n",
    "    y = cv2.imread(f'./data/output/{s}')\n",
    "    X = cv2.cvtColor(X, cv2.COLOR_BGR2RGB)\n",
    "    y = cv2.cvtColor(y, cv2.COLOR_BGR2RGB)\n",
    "    axs[i][0].imshow(X)\n",
    "    axs[i][1].imshow(y)\n",
    "# plt.axes('off')\n",
    "plt.tight_layout()\n",
    "plt.show()"
   ],
   "metadata": {
    "collapsed": false,
    "pycharm": {
     "name": "#%%\n"
    }
   }
  },
  {
   "cell_type": "code",
   "execution_count": null,
   "outputs": [],
   "source": [],
   "metadata": {
    "collapsed": false,
    "pycharm": {
     "name": "#%%\n"
    }
   }
  }
 ],
 "metadata": {
  "kernelspec": {
   "display_name": "Python 3",
   "language": "python",
   "name": "python3"
  },
  "language_info": {
   "codemirror_mode": {
    "name": "ipython",
    "version": 2
   },
   "file_extension": ".py",
   "mimetype": "text/x-python",
   "name": "python",
   "nbconvert_exporter": "python",
   "pygments_lexer": "ipython2",
   "version": "2.7.6"
  }
 },
 "nbformat": 4,
 "nbformat_minor": 0
}